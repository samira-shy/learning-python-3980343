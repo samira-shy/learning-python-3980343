{
 "cells": [
  {
   "cell_type": "markdown",
   "id": "25efb3b6-5d9a-43ae-a335-5815b0d7ce8b",
   "metadata": {},
   "source": [
    "# LinkedIn Learning Python course by Joe Marini\n",
    "Example file for complex types\n",
    "\n",
    "\n",
    "## Dictionary: a key-value data structure\n"
   ]
  },
  {
   "cell_type": "code",
   "execution_count": 43,
   "id": "706a620e-f49e-45cb-8bec-8b5bdedd8496",
   "metadata": {},
   "outputs": [],
   "source": [
    "mydict={\"K1\":1,\"K2\":2,4.5:[1,2,\"three\"]}"
   ]
  },
  {
   "cell_type": "code",
   "execution_count": 39,
   "id": "a5504e83-6a7b-4f75-9e80-5a758feb0d4b",
   "metadata": {},
   "outputs": [
    {
     "data": {
      "text/plain": [
       "{'K1': 1, 'K2': 2, 'K3': [1, 2, 'three']}"
      ]
     },
     "execution_count": 39,
     "metadata": {},
     "output_type": "execute_result"
    }
   ],
   "source": [
    "mydict"
   ]
  },
  {
   "cell_type": "markdown",
   "id": "72766e91-35e5-40b5-8a0f-ea6a79f9db59",
   "metadata": {},
   "source": [
    "## dictionaries are accessed via keys"
   ]
  },
  {
   "cell_type": "code",
   "execution_count": 29,
   "id": "2a714c33-3a18-46bc-ac73-c6c28ed11113",
   "metadata": {},
   "outputs": [
    {
     "data": {
      "text/plain": [
       "1"
      ]
     },
     "execution_count": 29,
     "metadata": {},
     "output_type": "execute_result"
    }
   ],
   "source": [
    "mydict[\"K1\"]"
   ]
  },
  {
   "cell_type": "code",
   "execution_count": 45,
   "id": "b4356bbd-4112-44c9-b9ce-26e926973b00",
   "metadata": {},
   "outputs": [
    {
     "data": {
      "text/plain": [
       "2"
      ]
     },
     "execution_count": 45,
     "metadata": {},
     "output_type": "execute_result"
    }
   ],
   "source": [
    "mydict[4.5][1]"
   ]
  },
  {
   "cell_type": "markdown",
   "id": "9370b461-c267-4fa5-ba64-da8d38fa9ce5",
   "metadata": {},
   "source": [
    "## you can also set dictionary data by creating a new key\n"
   ]
  },
  {
   "cell_type": "code",
   "execution_count": 47,
   "id": "908784c1-a8db-4415-9e08-be28dfb63a15",
   "metadata": {},
   "outputs": [],
   "source": [
    "mydict[\"four\"]=[4,4,40]"
   ]
  },
  {
   "cell_type": "code",
   "execution_count": 49,
   "id": "e53af588-6442-4a24-976a-9e494f16225d",
   "metadata": {},
   "outputs": [
    {
     "data": {
      "text/plain": [
       "{'K1': 1, 'K2': 2, 4.5: [1, 2, 'three'], 'four': [4, 4, 40]}"
      ]
     },
     "execution_count": 49,
     "metadata": {},
     "output_type": "execute_result"
    }
   ],
   "source": [
    "mydict"
   ]
  },
  {
   "cell_type": "markdown",
   "id": "77f8eef5-e8d5-4d8f-9dcb-0190b3ac8f10",
   "metadata": {},
   "source": [
    "## Trying to access a nonexistent key will produce an error"
   ]
  },
  {
   "cell_type": "code",
   "execution_count": 57,
   "id": "30147368-bf76-4763-a1f9-ad12772f112d",
   "metadata": {},
   "outputs": [
    {
     "ename": "KeyError",
     "evalue": "'three'",
     "output_type": "error",
     "traceback": [
      "\u001b[0;31m---------------------------------------------------------------------------\u001b[0m",
      "\u001b[0;31mKeyError\u001b[0m                                  Traceback (most recent call last)",
      "Cell \u001b[0;32mIn[57], line 1\u001b[0m\n\u001b[0;32m----> 1\u001b[0m mydict[\u001b[38;5;124m\"\u001b[39m\u001b[38;5;124mthree\u001b[39m\u001b[38;5;124m\"\u001b[39m]\n",
      "\u001b[0;31mKeyError\u001b[0m: 'three'"
     ]
    }
   ],
   "source": [
    "mydict[\"three\"]"
   ]
  },
  {
   "cell_type": "markdown",
   "id": "394ecbfd-025f-4d2c-83f0-17c1edd56ea0",
   "metadata": {},
   "source": [
    "## To avoid this, you can use the \"in\" operator to see if a key exists\n"
   ]
  },
  {
   "cell_type": "code",
   "execution_count": 70,
   "id": "0bae9afc-09f7-4b6f-bb24-62684ef22c03",
   "metadata": {},
   "outputs": [
    {
     "name": "stdout",
     "output_type": "stream",
     "text": [
      "False\n",
      "False\n",
      "False\n",
      "True\n"
     ]
    }
   ],
   "source": [
    "print(1 in mydict)\n",
    "print(40  in mydict)\n",
    "print(\"three\"  in mydict)\n",
    "print(\"K1\" in mydict)"
   ]
  },
  {
   "cell_type": "markdown",
   "id": "1271f5d5-46a6-43cb-ab2c-52df02f617ff",
   "metadata": {},
   "source": [
    "## You can retrieve all of the keys and values from a dictionary"
   ]
  },
  {
   "cell_type": "code",
   "execution_count": 75,
   "id": "1cb8b067-78d8-438d-aa51-bf6e72b775e0",
   "metadata": {},
   "outputs": [
    {
     "data": {
      "text/plain": [
       "dict_keys(['K1', 'K2', 4.5, 'four'])"
      ]
     },
     "execution_count": 75,
     "metadata": {},
     "output_type": "execute_result"
    }
   ],
   "source": [
    "mydict.keys()"
   ]
  },
  {
   "cell_type": "code",
   "execution_count": 77,
   "id": "07df04ed-d2bc-4af2-b88b-41f58e2aba0e",
   "metadata": {},
   "outputs": [
    {
     "data": {
      "text/plain": [
       "dict_values([1, 2, [1, 2, 'three'], [4, 4, 40]])"
      ]
     },
     "execution_count": 77,
     "metadata": {},
     "output_type": "execute_result"
    }
   ],
   "source": [
    "mydict.values()"
   ]
  },
  {
   "cell_type": "markdown",
   "id": "83aa83c8-9be5-4d1f-8b14-a41540f0bcaa",
   "metadata": {},
   "source": [
    "## You can also iterate over all the items in a dictionary"
   ]
  },
  {
   "cell_type": "code",
   "execution_count": 86,
   "id": "3174bc6a-a318-4e5e-81c8-72644e986d85",
   "metadata": {},
   "outputs": [
    {
     "name": "stdout",
     "output_type": "stream",
     "text": [
      "K1 1\n",
      "K2 2\n",
      "4.5 [1, 2, 'three']\n",
      "four [4, 4, 40]\n"
     ]
    }
   ],
   "source": [
    "for key,val in mydict.items():\n",
    "    print(key,val)"
   ]
  },
  {
   "cell_type": "code",
   "execution_count": 92,
   "id": "9832ff62-9ca4-4a6d-ad70-1769b145cfb6",
   "metadata": {},
   "outputs": [],
   "source": [
    "mylist= list(mydict.items())"
   ]
  },
  {
   "cell_type": "code",
   "execution_count": 94,
   "id": "1509c13d-bae0-4847-87e3-60ef4e197b90",
   "metadata": {},
   "outputs": [
    {
     "data": {
      "text/plain": [
       "[('K1', 1), ('K2', 2), (4.5, [1, 2, 'three']), ('four', [4, 4, 40])]"
      ]
     },
     "execution_count": 94,
     "metadata": {},
     "output_type": "execute_result"
    }
   ],
   "source": [
    "mylist"
   ]
  },
  {
   "cell_type": "code",
   "execution_count": 96,
   "id": "e7a67913-9f91-424b-b11d-fa5a4f526119",
   "metadata": {},
   "outputs": [
    {
     "data": {
      "text/plain": [
       "('K1', 1)"
      ]
     },
     "execution_count": 96,
     "metadata": {},
     "output_type": "execute_result"
    }
   ],
   "source": [
    "mylist[0]"
   ]
  },
  {
   "cell_type": "code",
   "execution_count": 98,
   "id": "850a6b47-ff98-4e46-b975-ac5f244bbe1c",
   "metadata": {},
   "outputs": [
    {
     "data": {
      "text/plain": [
       "'K1'"
      ]
     },
     "execution_count": 98,
     "metadata": {},
     "output_type": "execute_result"
    }
   ],
   "source": [
    "mylist[0][0]"
   ]
  },
  {
   "cell_type": "code",
   "execution_count": null,
   "id": "bd8fe4b0-d429-41c7-b77c-b33491943bda",
   "metadata": {},
   "outputs": [],
   "source": []
  }
 ],
 "metadata": {
  "kernelspec": {
   "display_name": "Python 3 (ipykernel)",
   "language": "python",
   "name": "python3"
  },
  "language_info": {
   "codemirror_mode": {
    "name": "ipython",
    "version": 3
   },
   "file_extension": ".py",
   "mimetype": "text/x-python",
   "name": "python",
   "nbconvert_exporter": "python",
   "pygments_lexer": "ipython3",
   "version": "3.12.7"
  }
 },
 "nbformat": 4,
 "nbformat_minor": 5
}
