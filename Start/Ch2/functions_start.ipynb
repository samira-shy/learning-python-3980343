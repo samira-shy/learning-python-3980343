{
 "cells": [
  {
   "cell_type": "markdown",
   "id": "fcbc3a43-7ffa-427f-8d6c-e27c0b58e38f",
   "metadata": {},
   "source": [
    "# LinkedIn Learning Python course by Joe Marini\n",
    "# Example file for working with functions\n",
    "## define a basic function\n"
   ]
  },
  {
   "cell_type": "code",
   "execution_count": 12,
   "id": "1dc478a4-88b4-4397-9d63-ea521b0db253",
   "metadata": {},
   "outputs": [
    {
     "name": "stdout",
     "output_type": "stream",
     "text": [
      "hello world!\n"
     ]
    },
    {
     "name": "stdin",
     "output_type": "stream",
     "text": [
      "What is your name?  sam\n"
     ]
    },
    {
     "name": "stdout",
     "output_type": "stream",
     "text": [
      "Nice to meet you, sam\n"
     ]
    }
   ],
   "source": [
    "print(\"hello world!\")\n",
    "name = input(\"What is your name? \")\n",
    "print(\"Nice to meet you,\", name)"
   ]
  },
  {
   "cell_type": "code",
   "execution_count": 20,
   "id": "a9bf6d16-f642-454e-9bdc-357da825c776",
   "metadata": {},
   "outputs": [],
   "source": [
    "def hello_func():\n",
    "    name = input(\"What is your name? \")\n",
    "    print(\"Nice to meet you,\", name)"
   ]
  },
  {
   "cell_type": "code",
   "execution_count": 22,
   "id": "238c4c1b-a3de-48d2-996e-b7dced6336c4",
   "metadata": {},
   "outputs": [
    {
     "name": "stdin",
     "output_type": "stream",
     "text": [
      "What is your name?  Gretha\n"
     ]
    },
    {
     "name": "stdout",
     "output_type": "stream",
     "text": [
      "Nice to meet you, Gretha\n"
     ]
    }
   ],
   "source": [
    "hello_func()"
   ]
  },
  {
   "cell_type": "markdown",
   "id": "02fae1da-68cc-4aaf-9848-024e2b182935",
   "metadata": {},
   "source": [
    "## function that takes parameters"
   ]
  },
  {
   "cell_type": "code",
   "execution_count": 14,
   "id": "b4f1a6ee-df23-4854-b3c2-2bdf0ebfeb64",
   "metadata": {},
   "outputs": [],
   "source": [
    "def hello_world(name):\n",
    "    print(\"Nice to meet you,\", name)"
   ]
  },
  {
   "cell_type": "code",
   "execution_count": 16,
   "id": "5d85e298-9e41-41c0-9b4a-b233418cc55b",
   "metadata": {},
   "outputs": [
    {
     "name": "stdin",
     "output_type": "stream",
     "text": [
      "What is your name?  sam\n"
     ]
    },
    {
     "name": "stdout",
     "output_type": "stream",
     "text": [
      "Nice to meet you, sam\n"
     ]
    }
   ],
   "source": [
    "name = input(\"What is your name? \")\n",
    "hello_world(name)"
   ]
  },
  {
   "cell_type": "code",
   "execution_count": 24,
   "id": "d37b99e7-d777-486a-8db1-8d42dc13a012",
   "metadata": {},
   "outputs": [],
   "source": [
    "def hello_func2(greeting,name):\n",
    "    print(greeting, name)"
   ]
  },
  {
   "cell_type": "code",
   "execution_count": 26,
   "id": "6742e9bf-08e3-4250-879b-7b985845f213",
   "metadata": {},
   "outputs": [
    {
     "name": "stdin",
     "output_type": "stream",
     "text": [
      "What is your name?  Catrine\n"
     ]
    },
    {
     "name": "stdout",
     "output_type": "stream",
     "text": [
      "Hey there  Catrine\n"
     ]
    }
   ],
   "source": [
    "name = input(\"What is your name? \")\n",
    "hello_func2(\"Hey there \",name)"
   ]
  },
  {
   "cell_type": "markdown",
   "id": "d07bd459-9470-4a72-be68-f83bd22dd121",
   "metadata": {},
   "source": [
    "## function that returns a value"
   ]
  },
  {
   "cell_type": "code",
   "execution_count": 29,
   "id": "1ae12d6c-ff46-412e-ae84-f9010a5a4890",
   "metadata": {},
   "outputs": [],
   "source": [
    "def cube(x):\n",
    "    return x*x*x"
   ]
  },
  {
   "cell_type": "code",
   "execution_count": 33,
   "id": "f097a534-a7fa-484a-8ac3-1f4727e95fac",
   "metadata": {},
   "outputs": [
    {
     "name": "stdout",
     "output_type": "stream",
     "text": [
      "27\n"
     ]
    }
   ],
   "source": [
    "print(cube(3))"
   ]
  },
  {
   "cell_type": "markdown",
   "id": "4dfbe9a2-ef7d-4bdb-a50a-431a3c8e423f",
   "metadata": {},
   "source": [
    "## function with default value for an parameter"
   ]
  },
  {
   "cell_type": "code",
   "execution_count": 40,
   "id": "3d257b9b-89ef-4dbd-83ad-62ec946f7093",
   "metadata": {},
   "outputs": [],
   "source": [
    "def hello_func3(greeting,name=None):\n",
    "    if name== None:\n",
    "        name = input(\"What is your name? \")\n",
    "    print(greeting, name)"
   ]
  },
  {
   "cell_type": "code",
   "execution_count": 36,
   "id": "5aba1980-b621-4fde-83b1-301845a4d64f",
   "metadata": {},
   "outputs": [
    {
     "data": {
      "text/plain": [
       "'Catrine'"
      ]
     },
     "execution_count": 36,
     "metadata": {},
     "output_type": "execute_result"
    }
   ],
   "source": [
    "name"
   ]
  },
  {
   "cell_type": "code",
   "execution_count": 47,
   "id": "5272789c-119c-44db-bde6-ae2bf9923c84",
   "metadata": {},
   "outputs": [
    {
     "name": "stdin",
     "output_type": "stream",
     "text": [
      "What is your name?  Joe\n"
     ]
    },
    {
     "name": "stdout",
     "output_type": "stream",
     "text": [
      "Hey there  Joe\n"
     ]
    }
   ],
   "source": [
    "greeting=\"Hey there \"\n",
    "hello_func3(name=None,greeting=greeting)"
   ]
  },
  {
   "cell_type": "markdown",
   "id": "3d072dc8-c018-49c8-8afd-0541ce8faf3e",
   "metadata": {},
   "source": [
    "## function with variable number of parameters"
   ]
  },
  {
   "cell_type": "code",
   "execution_count": 49,
   "id": "4bfc8717-7e14-4f1c-931e-f544b8683a03",
   "metadata": {},
   "outputs": [],
   "source": [
    "def multi_add(*args):\n",
    "    rst=0\n",
    "    for i in args:\n",
    "        rst = rst+i\n",
    "    return rst"
   ]
  },
  {
   "cell_type": "code",
   "execution_count": 57,
   "id": "a65264f2-9fb3-41a0-8239-2a2dab874951",
   "metadata": {},
   "outputs": [
    {
     "name": "stdout",
     "output_type": "stream",
     "text": [
      "9\n"
     ]
    }
   ],
   "source": [
    "print(multi_add(2,3,4))"
   ]
  },
  {
   "cell_type": "code",
   "execution_count": 59,
   "id": "5200eac3-ebb1-4cd2-bcd2-570f218b2e13",
   "metadata": {},
   "outputs": [
    {
     "name": "stdout",
     "output_type": "stream",
     "text": [
      "5\n"
     ]
    }
   ],
   "source": [
    "print(multi_add(2,3))"
   ]
  },
  {
   "cell_type": "code",
   "execution_count": 61,
   "id": "88179b7a-12bb-40e9-b67a-00784e6e6786",
   "metadata": {},
   "outputs": [],
   "source": [
    "def multi_add(start,*args):\n",
    "    rst=0\n",
    "    for i in args:\n",
    "        rst = rst+i\n",
    "    return rst"
   ]
  },
  {
   "cell_type": "code",
   "execution_count": 63,
   "id": "f684b756-98aa-42bd-9c03-4d2c0f0abddc",
   "metadata": {},
   "outputs": [
    {
     "name": "stdout",
     "output_type": "stream",
     "text": [
      "7\n"
     ]
    }
   ],
   "source": [
    "print(multi_add(2,3,4))"
   ]
  },
  {
   "cell_type": "code",
   "execution_count": 65,
   "id": "113062a5-3f74-4361-9eb5-4d96d5fe25eb",
   "metadata": {},
   "outputs": [
    {
     "name": "stdout",
     "output_type": "stream",
     "text": [
      "3\n"
     ]
    }
   ],
   "source": [
    "print(multi_add(2,3))"
   ]
  },
  {
   "cell_type": "code",
   "execution_count": 67,
   "id": "0bdec637-59af-4642-a0fd-dcc5c8d67f2c",
   "metadata": {},
   "outputs": [],
   "source": [
    "# Python code​​​​​​‌‌​‌​​‌​​‌‌‌‌​​‌​​‌‌​‌​‌‌ below\n",
    "# Use print(\"messages...\") to debug your solution.\n",
    "\n",
    "show_expected_result = False\n",
    "show_hints = False\n",
    "\n",
    "def count_numbers(which, numbers):\n",
    "    # Your code goes here\n",
    "    rst=0\n",
    "    for i in numbers:\n",
    "        if which == \"even\":\n",
    "            if i % 2 == 0:\n",
    "                rst += 1\n",
    "        elif which == \"odd\":\n",
    "            if i % 2 != 0:\n",
    "                rst += 1\n",
    "        else:\n",
    "            rst=-1\n",
    "    return rst\n",
    "\n",
    "numbers = [7, 17, 2, 13, 19, 20, 0, 5, 11, 1280, 105]\n",
    "result1 = count_numbers(\"even\", numbers)\n",
    "result2 = count_numbers(\"odd\", numbers)\n",
    "result3 = count_numbers(\"Blarg\", numbers)"
   ]
  },
  {
   "cell_type": "code",
   "execution_count": 69,
   "id": "13864710-f35a-4bef-941d-a1dbaef5a365",
   "metadata": {},
   "outputs": [
    {
     "name": "stdout",
     "output_type": "stream",
     "text": [
      "4\n"
     ]
    }
   ],
   "source": [
    "print(result1)"
   ]
  },
  {
   "cell_type": "code",
   "execution_count": 71,
   "id": "2ff2c6ef-f97d-4bf4-ade9-86e37414a755",
   "metadata": {},
   "outputs": [
    {
     "name": "stdout",
     "output_type": "stream",
     "text": [
      "7\n"
     ]
    }
   ],
   "source": [
    "print(result2)"
   ]
  },
  {
   "cell_type": "code",
   "execution_count": 73,
   "id": "4c98d201-d1e7-40f3-913b-082c2ec08a7a",
   "metadata": {},
   "outputs": [
    {
     "name": "stdout",
     "output_type": "stream",
     "text": [
      "-1\n"
     ]
    }
   ],
   "source": [
    "print(result3)"
   ]
  },
  {
   "cell_type": "code",
   "execution_count": null,
   "id": "8e5b443d-315e-41a5-bc32-c53e109cfcdf",
   "metadata": {},
   "outputs": [],
   "source": []
  }
 ],
 "metadata": {
  "kernelspec": {
   "display_name": "Python 3 (ipykernel)",
   "language": "python",
   "name": "python3"
  },
  "language_info": {
   "codemirror_mode": {
    "name": "ipython",
    "version": 3
   },
   "file_extension": ".py",
   "mimetype": "text/x-python",
   "name": "python",
   "nbconvert_exporter": "python",
   "pygments_lexer": "ipython3",
   "version": "3.12.7"
  }
 },
 "nbformat": 4,
 "nbformat_minor": 5
}
