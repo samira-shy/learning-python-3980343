{
 "cells": [
  {
   "cell_type": "code",
   "execution_count": 1,
   "id": "071883f0-ffa8-4d94-b024-315a43d8543f",
   "metadata": {},
   "outputs": [],
   "source": [
    "# LinkedIn Learning Python course by Joe Marini\n",
    "# Example file for variables and basic types\n",
    "\n",
    "\n",
    "# Basic data types in Python: Numbers, Strings, Booleans \n",
    "# Variable names must start with a letter or _, and can have numbers. They are case sensitive. \n",
    "myint = 10\n",
    "myfloat = 13.2576\n",
    "mystr = \"This is a string\"\n",
    "mybool = True\n"
   ]
  },
  {
   "cell_type": "code",
   "execution_count": 11,
   "id": "a6de73e6-4962-4aa6-a2a9-f948619b7442",
   "metadata": {},
   "outputs": [
    {
     "name": "stdout",
     "output_type": "stream",
     "text": [
      "10\n",
      "13.2576\n",
      "This is a string\n",
      "True\n"
     ]
    }
   ],
   "source": [
    "# We can display the content of a variable using the print() function\n",
    "print(myint)\n",
    "print(myfloat)\n",
    "print(mystr)\n",
    "print(mybool)\n"
   ]
  },
  {
   "cell_type": "code",
   "execution_count": 33,
   "id": "a5f6d1e0-0b01-42fa-84f6-706a13bee9f3",
   "metadata": {},
   "outputs": [
    {
     "name": "stdout",
     "output_type": "stream",
     "text": [
      "23.2576\n",
      "1.32576\n",
      "132.576\n",
      "3.2576\n",
      "This is a stringThis is another string\n",
      "nomnomnom\n"
     ]
    }
   ],
   "source": [
    "# Operators are used to perform operations on variables\n",
    "print(myfloat + myint)\n",
    "print(myfloat / myint)\n",
    "print(myfloat * myint)\n",
    "print(myfloat % myint)\n",
    "another_Str= \"This is another string\"\n",
    "print(mystr +another_Str)\n",
    "print(\"nom\" * 3)"
   ]
  },
  {
   "cell_type": "code",
   "execution_count": 37,
   "id": "73a373a7-888a-45b5-b860-30781e23573d",
   "metadata": {},
   "outputs": [
    {
     "ename": "TypeError",
     "evalue": "can only concatenate str (not \"int\") to str",
     "output_type": "error",
     "traceback": [
      "\u001b[0;31m---------------------------------------------------------------------------\u001b[0m",
      "\u001b[0;31mTypeError\u001b[0m                                 Traceback (most recent call last)",
      "Cell \u001b[0;32mIn[37], line 1\u001b[0m\n\u001b[0;32m----> 1\u001b[0m \u001b[38;5;28mprint\u001b[39m(mystr \u001b[38;5;241m+\u001b[39m\u001b[38;5;241m1\u001b[39m)\n",
      "\u001b[0;31mTypeError\u001b[0m: can only concatenate str (not \"int\") to str"
     ]
    }
   ],
   "source": [
    "# Error: can only concatenate str (not \"int\") to str\n",
    "print(mystr +1)"
   ]
  },
  {
   "cell_type": "code",
   "execution_count": 51,
   "id": "2b7b233a-cd11-4e01-a2d6-579fb5c1db99",
   "metadata": {},
   "outputs": [
    {
     "name": "stdout",
     "output_type": "stream",
     "text": [
      "True\n",
      "False\n",
      "True\n",
      "False\n",
      "\n",
      "\n",
      "True\n",
      "False\n",
      "True\n",
      "False\n",
      "\n",
      "\n",
      "True\n",
      "True\n",
      "False\n",
      "False\n"
     ]
    }
   ],
   "source": [
    "# Logical and comparison operators \n",
    "print( mybool)\n",
    "print(not mybool)\n",
    "\n",
    "print(mybool and ( mybool))\n",
    "print(mybool and (not mybool))\n",
    "print(\"\\n\")\n",
    "print(myint ==10)\n",
    "print(myint>20)\n",
    "print(myfloat!=20)\n",
    "print(myfloat<10)\n",
    "print(\"\\n\")\n",
    "print(myint>5 and myfloat<25.0)\n",
    "print(myint>5 or myfloat<25.0)\n",
    "print(myint<5 and myfloat<25.0)\n",
    "print(not (myint>5 and myfloat<25.0))\n"
   ]
  },
  {
   "cell_type": "code",
   "execution_count": 53,
   "id": "76c2edd2-c285-4f44-a525-e43c6ff99f12",
   "metadata": {},
   "outputs": [],
   "source": [
    "# re-declaring a variable works\n",
    "myint=\"abs\""
   ]
  },
  {
   "cell_type": "code",
   "execution_count": 55,
   "id": "0523d9fd-4168-491f-a0b5-76a3b8452a84",
   "metadata": {},
   "outputs": [
    {
     "name": "stdout",
     "output_type": "stream",
     "text": [
      "abs\n"
     ]
    }
   ],
   "source": [
    "print(myint)"
   ]
  },
  {
   "cell_type": "code",
   "execution_count": null,
   "id": "69b8a39f-7ac3-4531-8951-1303cff7d35a",
   "metadata": {},
   "outputs": [],
   "source": []
  }
 ],
 "metadata": {
  "kernelspec": {
   "display_name": "Python 3 (ipykernel)",
   "language": "python",
   "name": "python3"
  },
  "language_info": {
   "codemirror_mode": {
    "name": "ipython",
    "version": 3
   },
   "file_extension": ".py",
   "mimetype": "text/x-python",
   "name": "python",
   "nbconvert_exporter": "python",
   "pygments_lexer": "ipython3",
   "version": "3.12.7"
  }
 },
 "nbformat": 4,
 "nbformat_minor": 5
}
