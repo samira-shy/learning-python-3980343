{
 "cells": [
  {
   "cell_type": "markdown",
   "id": "006fd947-a97c-4f21-a7da-47601f6ff8cf",
   "metadata": {},
   "source": [
    "# LinkedIn Learning Python course by Joe Marini\n",
    "# Example file for complex types\n",
    "\n",
    "## Sequences: Lists and Tuples\n",
    " These are -- surprise -- sequences of values"
   ]
  },
  {
   "cell_type": "code",
   "execution_count": 5,
   "id": "455d757e-9c6d-4e75-8e1f-77a7e24ce0ce",
   "metadata": {},
   "outputs": [],
   "source": [
    "\n",
    "mylist = [0,1,2,3,4,\"one\",1.0,False]\n"
   ]
  },
  {
   "cell_type": "code",
   "execution_count": 7,
   "id": "cae4f3e5-bc02-4a8e-b371-703098facf54",
   "metadata": {},
   "outputs": [
    {
     "data": {
      "text/plain": [
       "[0, 1, 2, 3, 4, 'one', 1.0, False]"
      ]
     },
     "execution_count": 7,
     "metadata": {},
     "output_type": "execute_result"
    }
   ],
   "source": [
    "mylist"
   ]
  },
  {
   "cell_type": "code",
   "execution_count": 9,
   "id": "4ff1d9bc-63d3-4148-a260-0460fede0118",
   "metadata": {},
   "outputs": [
    {
     "data": {
      "text/plain": [
       "8"
      ]
     },
     "execution_count": 9,
     "metadata": {},
     "output_type": "execute_result"
    }
   ],
   "source": [
    "len(mylist)"
   ]
  },
  {
   "cell_type": "code",
   "execution_count": 11,
   "id": "1dd3551e-f5bb-454a-8cc7-15229fd65051",
   "metadata": {},
   "outputs": [
    {
     "name": "stdout",
     "output_type": "stream",
     "text": [
      "2\n"
     ]
    }
   ],
   "source": [
    "print(mylist[2])"
   ]
  },
  {
   "cell_type": "code",
   "execution_count": 13,
   "id": "0d655cfe-a533-4989-9746-f0a7b10268ca",
   "metadata": {},
   "outputs": [
    {
     "name": "stdout",
     "output_type": "stream",
     "text": [
      "1.0\n"
     ]
    }
   ],
   "source": [
    "print(mylist[-2])"
   ]
  },
  {
   "cell_type": "code",
   "execution_count": 21,
   "id": "92cde178-fccd-4211-9c45-5daa9985204e",
   "metadata": {},
   "outputs": [],
   "source": [
    "# change an element\n",
    "mylist[0] =100"
   ]
  },
  {
   "cell_type": "code",
   "execution_count": 23,
   "id": "3d87d613-935d-4fb8-8aa3-5936f2c80794",
   "metadata": {},
   "outputs": [
    {
     "data": {
      "text/plain": [
       "[100, 1, 2, 3, 4, 'one', 1.0, False]"
      ]
     },
     "execution_count": 23,
     "metadata": {},
     "output_type": "execute_result"
    }
   ],
   "source": [
    "mylist"
   ]
  },
  {
   "cell_type": "markdown",
   "id": "0fd6fc95-ea3e-42a8-b189-a0f362fe379d",
   "metadata": {},
   "source": [
    "## add a list to another list"
   ]
  },
  {
   "cell_type": "code",
   "execution_count": 27,
   "id": "68b58907-a1a4-4fea-b90e-d93c63244741",
   "metadata": {},
   "outputs": [],
   "source": [
    "another_list=[7,8,9]"
   ]
  },
  {
   "cell_type": "code",
   "execution_count": 31,
   "id": "9e5ed396-14cd-4a12-8837-a7417176656e",
   "metadata": {},
   "outputs": [],
   "source": [
    "\n",
    "mylist=mylist+another_list"
   ]
  },
  {
   "cell_type": "code",
   "execution_count": 33,
   "id": "20d3af8b-2aee-4a47-8412-3b08e348be07",
   "metadata": {},
   "outputs": [
    {
     "data": {
      "text/plain": [
       "[100, 1, 2, 3, 4, 'one', 1.0, False, 7, 8, 9]"
      ]
     },
     "execution_count": 33,
     "metadata": {},
     "output_type": "execute_result"
    }
   ],
   "source": [
    "mylist"
   ]
  },
  {
   "cell_type": "code",
   "execution_count": 35,
   "id": "d3e9e8b7-97d7-48fc-a7ec-b987ebd49483",
   "metadata": {},
   "outputs": [],
   "source": [
    "# to access a member of a sequence type, use []\n",
    "mystr=\"Test your knowledge\""
   ]
  },
  {
   "cell_type": "code",
   "execution_count": 39,
   "id": "7a41ce9c-535a-4c03-abb1-56a2cb5786b7",
   "metadata": {},
   "outputs": [
    {
     "data": {
      "text/plain": [
       "'T'"
      ]
     },
     "execution_count": 39,
     "metadata": {},
     "output_type": "execute_result"
    }
   ],
   "source": [
    "mystr[0]"
   ]
  },
  {
   "cell_type": "code",
   "execution_count": 41,
   "id": "8eccbd78-9451-44ef-be32-69290dbc7877",
   "metadata": {},
   "outputs": [
    {
     "ename": "NameError",
     "evalue": "name 't' is not defined",
     "output_type": "error",
     "traceback": [
      "\u001b[0;31m---------------------------------------------------------------------------\u001b[0m",
      "\u001b[0;31mNameError\u001b[0m                                 Traceback (most recent call last)",
      "Cell \u001b[0;32mIn[41], line 3\u001b[0m\n\u001b[1;32m      1\u001b[0m \u001b[38;5;66;03m# strings unlike lists are immutable \u001b[39;00m\n\u001b[0;32m----> 3\u001b[0m mystr[\u001b[38;5;241m0\u001b[39m]\u001b[38;5;241m=\u001b[39mt\n",
      "\u001b[0;31mNameError\u001b[0m: name 't' is not defined"
     ]
    }
   ],
   "source": [
    "# strings unlike lists are immutable \n",
    "\n",
    "mystr[0]=t"
   ]
  },
  {
   "cell_type": "markdown",
   "id": "3da87954-4b4f-4e82-921f-1c477d5f56f3",
   "metadata": {},
   "source": [
    "## use slices to get parts of a sequence"
   ]
  },
  {
   "cell_type": "code",
   "execution_count": 46,
   "id": "1ef5c8a4-363f-419b-b96e-aafa1c47ecb3",
   "metadata": {},
   "outputs": [
    {
     "data": {
      "text/plain": [
       "[100, 1, 2]"
      ]
     },
     "execution_count": 46,
     "metadata": {},
     "output_type": "execute_result"
    }
   ],
   "source": [
    "mylist[0:3]"
   ]
  },
  {
   "cell_type": "code",
   "execution_count": 50,
   "id": "35f781cf-3860-4ae7-8a23-0e3b735bcced",
   "metadata": {},
   "outputs": [
    {
     "data": {
      "text/plain": [
       "[100, 2, 4]"
      ]
     },
     "execution_count": 50,
     "metadata": {},
     "output_type": "execute_result"
    }
   ],
   "source": [
    "# add step\n",
    "mylist[0:5:2]"
   ]
  },
  {
   "cell_type": "code",
   "execution_count": 52,
   "id": "ce52cfd2-8bf7-41f3-a058-db2aff0e8fb9",
   "metadata": {},
   "outputs": [
    {
     "data": {
      "text/plain": [
       "[100, 1, 2]"
      ]
     },
     "execution_count": 52,
     "metadata": {},
     "output_type": "execute_result"
    }
   ],
   "source": [
    "mylist[:3]"
   ]
  },
  {
   "cell_type": "code",
   "execution_count": 54,
   "id": "f3cac3a0-28fe-4eb5-abb1-521baec400fd",
   "metadata": {},
   "outputs": [
    {
     "data": {
      "text/plain": [
       "[100, 1, 2, 3, 4, 'one', 1.0, False, 7, 8, 9]"
      ]
     },
     "execution_count": 54,
     "metadata": {},
     "output_type": "execute_result"
    }
   ],
   "source": [
    "mylist[:]\n"
   ]
  },
  {
   "cell_type": "code",
   "execution_count": 58,
   "id": "f2b78428-da83-4711-be54-f859e8a17ddf",
   "metadata": {},
   "outputs": [
    {
     "data": {
      "text/plain": [
       "[1.0, False]"
      ]
     },
     "execution_count": 58,
     "metadata": {},
     "output_type": "execute_result"
    }
   ],
   "source": [
    "mylist[-5:-3]"
   ]
  },
  {
   "cell_type": "code",
   "execution_count": 60,
   "id": "4960875c-29a3-4ae8-99fc-6db47a4151d0",
   "metadata": {},
   "outputs": [
    {
     "data": {
      "text/plain": [
       "[100, 2, 4, 1.0, 7, 9]"
      ]
     },
     "execution_count": 60,
     "metadata": {},
     "output_type": "execute_result"
    }
   ],
   "source": [
    "mylist[::2]"
   ]
  },
  {
   "cell_type": "markdown",
   "id": "ca05ca3f-a3ea-4cf6-a2f2-58de64c86882",
   "metadata": {},
   "source": [
    "## you can use slices to reverse a sequence"
   ]
  },
  {
   "cell_type": "code",
   "execution_count": 63,
   "id": "42f9bed6-b91b-49e3-aa87-e7ef1a88cd05",
   "metadata": {},
   "outputs": [
    {
     "data": {
      "text/plain": [
       "[9, 8, 7, False, 1.0, 'one', 4, 3, 2, 1, 100]"
      ]
     },
     "execution_count": 63,
     "metadata": {},
     "output_type": "execute_result"
    }
   ],
   "source": [
    "mylist[::-1]"
   ]
  },
  {
   "cell_type": "code",
   "execution_count": 65,
   "id": "95cc95b3-da0a-4016-9b56-3cc7ea5e40ea",
   "metadata": {},
   "outputs": [
    {
     "data": {
      "text/plain": [
       "'egdelwonk ruoy tseT'"
      ]
     },
     "execution_count": 65,
     "metadata": {},
     "output_type": "execute_result"
    }
   ],
   "source": [
    "mystr[::-1]"
   ]
  },
  {
   "cell_type": "markdown",
   "id": "54613199-3c5c-4f99-b2b4-4171686244fa",
   "metadata": {},
   "source": [
    "## Tuples\n",
    "Tuples are like lists, but they are immutable\n"
   ]
  },
  {
   "cell_type": "code",
   "execution_count": 68,
   "id": "d89ed5fc-8889-430d-ad2c-482b4709d455",
   "metadata": {},
   "outputs": [],
   "source": [
    "mytuple=(0,1,2,3,\"four\")"
   ]
  },
  {
   "cell_type": "code",
   "execution_count": 70,
   "id": "7573ce6a-9153-44a2-9691-ce39e807b578",
   "metadata": {},
   "outputs": [
    {
     "data": {
      "text/plain": [
       "(0, 1, 2, 3, 'four')"
      ]
     },
     "execution_count": 70,
     "metadata": {},
     "output_type": "execute_result"
    }
   ],
   "source": [
    "mytuple"
   ]
  },
  {
   "cell_type": "code",
   "execution_count": 72,
   "id": "cc8a83b7-ecf4-49aa-a325-edbb52506737",
   "metadata": {},
   "outputs": [
    {
     "data": {
      "text/plain": [
       "0"
      ]
     },
     "execution_count": 72,
     "metadata": {},
     "output_type": "execute_result"
    }
   ],
   "source": [
    "mytuple[0]"
   ]
  },
  {
   "cell_type": "code",
   "execution_count": 78,
   "id": "0b6908b5-5593-42c0-bdf1-417c413d95b9",
   "metadata": {},
   "outputs": [
    {
     "data": {
      "text/plain": [
       "'u'"
      ]
     },
     "execution_count": 78,
     "metadata": {},
     "output_type": "execute_result"
    }
   ],
   "source": [
    "mytuple[4][2]"
   ]
  },
  {
   "cell_type": "markdown",
   "id": "4a65221a-8dbc-48da-9620-689aa005f419",
   "metadata": {},
   "source": [
    "## Sets \n",
    "sets are also sequences, but they contain unique values\n"
   ]
  },
  {
   "cell_type": "code",
   "execution_count": 89,
   "id": "644ecf48-c5e2-4a60-8c59-b8e220e7b5f7",
   "metadata": {},
   "outputs": [],
   "source": [
    "myset={1,2,3,4,2,'five'}"
   ]
  },
  {
   "cell_type": "code",
   "execution_count": 91,
   "id": "2b701946-3d8e-471e-be91-46b1edfad7ab",
   "metadata": {},
   "outputs": [
    {
     "data": {
      "text/plain": [
       "{1, 2, 3, 4, 'five'}"
      ]
     },
     "execution_count": 91,
     "metadata": {},
     "output_type": "execute_result"
    }
   ],
   "source": [
    "myset"
   ]
  },
  {
   "cell_type": "markdown",
   "id": "4eeb72ee-d642-4130-a865-97af531c8145",
   "metadata": {},
   "source": [
    "### Set, however, can not be indexed like lists or tuples\n",
    "\n",
    "```\n",
    "print(myset[0])\n",
    "```"
   ]
  },
  {
   "cell_type": "code",
   "execution_count": 93,
   "id": "766983d6-d125-4c5e-bb63-e547b3aed9ea",
   "metadata": {},
   "outputs": [
    {
     "ename": "TypeError",
     "evalue": "'set' object is not subscriptable",
     "output_type": "error",
     "traceback": [
      "\u001b[0;31m---------------------------------------------------------------------------\u001b[0m",
      "\u001b[0;31mTypeError\u001b[0m                                 Traceback (most recent call last)",
      "Cell \u001b[0;32mIn[93], line 1\u001b[0m\n\u001b[0;32m----> 1\u001b[0m \u001b[38;5;28mprint\u001b[39m(myset[\u001b[38;5;241m0\u001b[39m])\n",
      "\u001b[0;31mTypeError\u001b[0m: 'set' object is not subscriptable"
     ]
    }
   ],
   "source": [
    "print(myset[0])"
   ]
  },
  {
   "cell_type": "markdown",
   "id": "0f82c00d-0061-4e8a-b788-45759b418720",
   "metadata": {},
   "source": [
    "## Test for membership"
   ]
  },
  {
   "cell_type": "code",
   "execution_count": 108,
   "id": "81939f95-b6ad-4e63-a243-f5f1768b28fe",
   "metadata": {},
   "outputs": [
    {
     "name": "stdout",
     "output_type": "stream",
     "text": [
      "True\n",
      "False\n",
      "False\n",
      "True\n",
      "True\n"
     ]
    }
   ],
   "source": [
    "print(1 in mylist)\n",
    "print(\"pretty\" in mylist)\n",
    "print(40 in mytuple)\n",
    "print('r' in mystr)\n",
    "print(2 in myset)\n"
   ]
  }
 ],
 "metadata": {
  "kernelspec": {
   "display_name": "Python 3 (ipykernel)",
   "language": "python",
   "name": "python3"
  },
  "language_info": {
   "codemirror_mode": {
    "name": "ipython",
    "version": 3
   },
   "file_extension": ".py",
   "mimetype": "text/x-python",
   "name": "python",
   "nbconvert_exporter": "python",
   "pygments_lexer": "ipython3",
   "version": "3.12.7"
  }
 },
 "nbformat": 4,
 "nbformat_minor": 5
}
