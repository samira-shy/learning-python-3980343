{
 "cells": [
  {
   "cell_type": "markdown",
   "id": "b32a3bcf-e8ca-4cda-9652-285ab5a42624",
   "metadata": {},
   "source": [
    "# LinkedIn Learning Python course by Joe Marini\n",
    "# Example file for working with loops"
   ]
  },
  {
   "cell_type": "markdown",
   "id": "fc83909d-ac9f-4de7-86e3-0a12997e5f4a",
   "metadata": {},
   "source": [
    "## define a while loop"
   ]
  },
  {
   "cell_type": "code",
   "execution_count": 3,
   "id": "f4384ee8-8a14-40fe-82bb-b373a6ba9f68",
   "metadata": {},
   "outputs": [
    {
     "name": "stdout",
     "output_type": "stream",
     "text": [
      "10\n",
      "9\n",
      "8\n",
      "7\n",
      "6\n"
     ]
    }
   ],
   "source": [
    "x = 10\n",
    "while x>5:\n",
    "    print(x)\n",
    "    x -= 1"
   ]
  },
  {
   "cell_type": "code",
   "execution_count": 1,
   "id": "40e47e55-160d-4677-9c91-a31b89eadc7b",
   "metadata": {},
   "outputs": [
    {
     "name": "stdin",
     "output_type": "stream",
     "text": [
      "Should I stop? n\n"
     ]
    },
    {
     "name": "stdout",
     "output_type": "stream",
     "text": [
      "n\n"
     ]
    },
    {
     "name": "stdin",
     "output_type": "stream",
     "text": [
      "Should I stop? n\n"
     ]
    },
    {
     "name": "stdout",
     "output_type": "stream",
     "text": [
      "n\n"
     ]
    },
    {
     "name": "stdin",
     "output_type": "stream",
     "text": [
      "Should I stop? y\n"
     ]
    }
   ],
   "source": [
    "answer = input(\"Should I stop?\")\n",
    "while answer!=\"y\":\n",
    "    print(answer)\n",
    "    answer = input(\"Should I stop?\")\n",
    "    "
   ]
  },
  {
   "cell_type": "markdown",
   "id": "cc888c56-d32e-4130-96ee-6e14bd5b5cbb",
   "metadata": {},
   "source": [
    "## define a for loop"
   ]
  },
  {
   "cell_type": "code",
   "execution_count": 4,
   "id": "cf7afda0-89f0-48a5-b85b-c7099c80cf39",
   "metadata": {},
   "outputs": [
    {
     "name": "stdout",
     "output_type": "stream",
     "text": [
      "1\n",
      "2\n",
      "3\n",
      "4\n"
     ]
    }
   ],
   "source": [
    "mylist = [1,2,3,4]\n",
    "for i in mylist:\n",
    "    print(i)"
   ]
  },
  {
   "cell_type": "markdown",
   "id": "204fc7cf-dd2a-4c50-b931-7e3642905a3e",
   "metadata": {},
   "source": [
    "## Use the break and continue statements"
   ]
  },
  {
   "cell_type": "code",
   "execution_count": 6,
   "id": "ea8a2c47-f08c-45bf-8ee5-47f801c1c0d0",
   "metadata": {},
   "outputs": [
    {
     "name": "stdout",
     "output_type": "stream",
     "text": [
      "1\n",
      "2\n"
     ]
    }
   ],
   "source": [
    "for i in mylist:\n",
    "    if i==3:\n",
    "        break\n",
    "    print(i)"
   ]
  },
  {
   "cell_type": "code",
   "execution_count": 8,
   "id": "da3f0bfb-52ea-42dc-98bd-24f889dacf68",
   "metadata": {},
   "outputs": [
    {
     "name": "stdout",
     "output_type": "stream",
     "text": [
      "1\n",
      "2\n",
      "4\n"
     ]
    }
   ],
   "source": [
    "# skipped number 3\n",
    "for i in mylist:\n",
    "    if i==3:\n",
    "        continue\n",
    "    print(i)"
   ]
  },
  {
   "cell_type": "markdown",
   "id": "efafdee9-bec6-43f0-a90b-1e26404e80e5",
   "metadata": {},
   "source": [
    "## using the enumerate() function to get an index and an item"
   ]
  },
  {
   "cell_type": "code",
   "execution_count": 12,
   "id": "0c79eac9-abed-4b29-ba44-d9360bd148e8",
   "metadata": {},
   "outputs": [
    {
     "name": "stdout",
     "output_type": "stream",
     "text": [
      "0 1\n",
      "1 2\n",
      "2 3\n",
      "3 4\n"
     ]
    }
   ],
   "source": [
    "# printing the index and the value of the item\n",
    "for i,j in enumerate(mylist):\n",
    "    print(i,j)"
   ]
  }
 ],
 "metadata": {
  "kernelspec": {
   "display_name": "Python 3 (ipykernel)",
   "language": "python",
   "name": "python3"
  },
  "language_info": {
   "codemirror_mode": {
    "name": "ipython",
    "version": 3
   },
   "file_extension": ".py",
   "mimetype": "text/x-python",
   "name": "python",
   "nbconvert_exporter": "python",
   "pygments_lexer": "ipython3",
   "version": "3.12.7"
  }
 },
 "nbformat": 4,
 "nbformat_minor": 5
}
