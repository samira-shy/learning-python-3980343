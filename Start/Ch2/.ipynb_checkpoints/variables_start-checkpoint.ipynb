{
 "cells": [
  {
   "cell_type": "code",
   "execution_count": 1,
   "id": "071883f0-ffa8-4d94-b024-315a43d8543f",
   "metadata": {},
   "outputs": [],
   "source": [
    "# LinkedIn Learning Python course by Joe Marini\n",
    "# Example file for variables and basic types\n",
    "\n",
    "\n",
    "# Basic data types in Python: Numbers, Strings, Booleans \n",
    "# Variable names must start with a letter or _, and can have numbers. They are case sensitive. \n",
    "myint = 10\n",
    "myfloat = 13.2576\n",
    "mystr = \"This is a string\"\n",
    "mybool = True\n"
   ]
  },
  {
   "cell_type": "code",
   "execution_count": 11,
   "id": "a6de73e6-4962-4aa6-a2a9-f948619b7442",
   "metadata": {},
   "outputs": [
    {
     "name": "stdout",
     "output_type": "stream",
     "text": [
      "10\n",
      "13.2576\n",
      "This is a string\n",
      "True\n"
     ]
    }
   ],
   "source": [
    "# We can display the content of a variable using the print() function\n",
    "print(myint)\n",
    "print(myfloat)\n",
    "print(mystr)\n",
    "print(mybool)\n"
   ]
  },
  {
   "cell_type": "code",
   "execution_count": 33,
   "id": "a5f6d1e0-0b01-42fa-84f6-706a13bee9f3",
   "metadata": {},
   "outputs": [
    {
     "name": "stdout",
     "output_type": "stream",
     "text": [
      "23.2576\n",
      "1.32576\n",
      "132.576\n",
      "3.2576\n",
      "This is a stringThis is another string\n",
      "nomnomnom\n"
     ]
    }
   ],
   "source": [
    "# Operators are used to perform operations on variables\n",
    "print(myfloat + myint)\n",
    "print(myfloat / myint)\n",
    "print(myfloat * myint)\n",
    "print(myfloat % myint)\n",
    "another_Str= \"This is another string\"\n",
    "print(mystr +another_Str)\n",
    "print(\"nom\" * 3)"
   ]
  },
  {
   "cell_type": "code",
   "execution_count": 35,
   "id": "2b7b233a-cd11-4e01-a2d6-579fb5c1db99",
   "metadata": {},
   "outputs": [
    {
     "name": "stdout",
     "output_type": "stream",
     "text": [
      "True\n",
      "False\n",
      "True\n",
      "False\n"
     ]
    }
   ],
   "source": [
    "# Logical and comparison operators \n",
    "print( mybool)\n",
    "print(not mybool)\n",
    "\n",
    "print(mybool and ( mybool))\n",
    "print(mybool and (not mybool))\n"
   ]
  },
  {
   "cell_type": "code",
   "execution_count": null,
   "id": "76c2edd2-c285-4f44-a525-e43c6ff99f12",
   "metadata": {},
   "outputs": [],
   "source": [
    "# re-declaring a variable works"
   ]
  }
 ],
 "metadata": {
  "kernelspec": {
   "display_name": "Python 3 (ipykernel)",
   "language": "python",
   "name": "python3"
  },
  "language_info": {
   "codemirror_mode": {
    "name": "ipython",
    "version": 3
   },
   "file_extension": ".py",
   "mimetype": "text/x-python",
   "name": "python",
   "nbconvert_exporter": "python",
   "pygments_lexer": "ipython3",
   "version": "3.12.7"
  }
 },
 "nbformat": 4,
 "nbformat_minor": 5
}
