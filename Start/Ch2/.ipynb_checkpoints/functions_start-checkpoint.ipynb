{
 "cells": [
  {
   "cell_type": "markdown",
   "id": "fcbc3a43-7ffa-427f-8d6c-e27c0b58e38f",
   "metadata": {},
   "source": [
    "# LinkedIn Learning Python course by Joe Marini\n",
    "# Example file for working with functions"
   ]
  },
  {
   "cell_type": "code",
   "execution_count": null,
   "id": "1dc478a4-88b4-4397-9d63-ea521b0db253",
   "metadata": {},
   "outputs": [],
   "source": [
    "## define a basic function\n",
    "print(\"hello world!\")\n",
    "name = input(\"What is your name? \")\n",
    "print(\"Nice to meet you,\", name)\n",
    "\n"
   ]
  },
  {
   "cell_type": "code",
   "execution_count": null,
   "id": "b4f1a6ee-df23-4854-b3c2-2bdf0ebfeb64",
   "metadata": {},
   "outputs": [],
   "source": []
  },
  {
   "cell_type": "code",
   "execution_count": null,
   "id": "5d85e298-9e41-41c0-9b4a-b233418cc55b",
   "metadata": {},
   "outputs": [],
   "source": []
  },
  {
   "cell_type": "code",
   "execution_count": null,
   "id": "d37b99e7-d777-486a-8db1-8d42dc13a012",
   "metadata": {},
   "outputs": [],
   "source": []
  },
  {
   "cell_type": "code",
   "execution_count": null,
   "id": "c7646455-9c34-4c24-b0e2-a1e6fd7c05b6",
   "metadata": {},
   "outputs": [],
   "source": [
    "# function that takes parameters\n",
    "\n"
   ]
  },
  {
   "cell_type": "code",
   "execution_count": null,
   "id": "6742e9bf-08e3-4250-879b-7b985845f213",
   "metadata": {},
   "outputs": [],
   "source": []
  },
  {
   "cell_type": "code",
   "execution_count": null,
   "id": "78524665-5cfd-4013-9c0e-61631e1d52c2",
   "metadata": {},
   "outputs": [],
   "source": []
  },
  {
   "cell_type": "code",
   "execution_count": null,
   "id": "1ae12d6c-ff46-412e-ae84-f9010a5a4890",
   "metadata": {},
   "outputs": [],
   "source": []
  },
  {
   "cell_type": "code",
   "execution_count": null,
   "id": "f097a534-a7fa-484a-8ac3-1f4727e95fac",
   "metadata": {},
   "outputs": [],
   "source": []
  },
  {
   "cell_type": "code",
   "execution_count": null,
   "id": "eb39555d-079f-4d06-abb6-821352b55747",
   "metadata": {},
   "outputs": [],
   "source": [
    "\n",
    "# function that returns a value\n",
    "\n",
    "\n",
    "# function with default value for an parameter\n",
    "\n",
    "\n",
    "# function with variable number of parameters\n"
   ]
  }
 ],
 "metadata": {
  "kernelspec": {
   "display_name": "Python 3 (ipykernel)",
   "language": "python",
   "name": "python3"
  },
  "language_info": {
   "codemirror_mode": {
    "name": "ipython",
    "version": 3
   },
   "file_extension": ".py",
   "mimetype": "text/x-python",
   "name": "python",
   "nbconvert_exporter": "python",
   "pygments_lexer": "ipython3",
   "version": "3.12.7"
  }
 },
 "nbformat": 4,
 "nbformat_minor": 5
}
