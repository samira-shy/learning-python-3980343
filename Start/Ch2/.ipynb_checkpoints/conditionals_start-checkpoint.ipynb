{
 "cells": [
  {
   "cell_type": "markdown",
   "id": "5ecdd55f-246a-447c-9ef6-bb4f84593e94",
   "metadata": {},
   "source": [
    "# LinkedIn Learning Python course by Joe Marini\n",
    " Example file for working with conditional statements\n"
   ]
  },
  {
   "cell_type": "code",
   "execution_count": 38,
   "id": "91e59d3f-2d23-4867-81bb-713c6ea7a547",
   "metadata": {},
   "outputs": [],
   "source": [
    "x, y = 1000, 100"
   ]
  },
  {
   "cell_type": "markdown",
   "id": "9b3664fa-c50c-4f98-8a14-f543521bef89",
   "metadata": {},
   "source": [
    "## conditional flow uses if, elif, else"
   ]
  },
  {
   "cell_type": "code",
   "execution_count": 46,
   "id": "9875c1af-089d-4ba4-b29e-f117183c323a",
   "metadata": {},
   "outputs": [
    {
     "name": "stdout",
     "output_type": "stream",
     "text": [
      "x is less than y\n"
     ]
    }
   ],
   "source": [
    "if x==y:\n",
    "    print(\"numbers are equal\")\n",
    "else:\n",
    "    print(\"x is less than y\")\n",
    "   "
   ]
  },
  {
   "cell_type": "code",
   "execution_count": 42,
   "id": "779ba7ef-b068-4691-aaa4-4f43abf202f5",
   "metadata": {},
   "outputs": [
    {
     "name": "stdout",
     "output_type": "stream",
     "text": [
      "x is greater than y\n"
     ]
    }
   ],
   "source": [
    "if x==y:\n",
    "    print(\"numbers are equal\")\n",
    "elif x<y:\n",
    "    print(\"x is less than y\")\n",
    "else:\n",
    "    print(\"x is greater than y\")"
   ]
  },
  {
   "cell_type": "code",
   "execution_count": 40,
   "id": "69902d5a-a5bc-4bca-8eaa-7e0801d7e8ff",
   "metadata": {},
   "outputs": [
    {
     "name": "stdout",
     "output_type": "stream",
     "text": [
      "x is greater than y\n"
     ]
    }
   ],
   "source": [
    "if x==y:\n",
    "    print(\"numbers are equal\")\n",
    "elif x<y:\n",
    "    print(\"x is less than y\")\n",
    "elif x>y:\n",
    "    print(\"x is greater than y\")"
   ]
  },
  {
   "cell_type": "markdown",
   "id": "92e29741-1d8f-44f8-8ced-3bc9fc8e5bc5",
   "metadata": {},
   "source": [
    "## conditional statements let you use \"a if C else b\""
   ]
  },
  {
   "cell_type": "code",
   "execution_count": 48,
   "id": "e5b3536e-1ebd-4ef2-9a62-18ccdcf74a9f",
   "metadata": {},
   "outputs": [],
   "source": [
    "result = \"x is less than y\" if (x<y) else \"x is greater than y\""
   ]
  },
  {
   "cell_type": "code",
   "execution_count": 50,
   "id": "5806f082-ff85-425e-94d9-ab35e1907bd3",
   "metadata": {},
   "outputs": [
    {
     "name": "stdout",
     "output_type": "stream",
     "text": [
      "x is greater than y\n"
     ]
    }
   ],
   "source": [
    "print(result)"
   ]
  },
  {
   "cell_type": "code",
   "execution_count": null,
   "id": "916d114b-e99e-4b80-8577-239ce62c1050",
   "metadata": {},
   "outputs": [],
   "source": []
  },
  {
   "cell_type": "code",
   "execution_count": null,
   "id": "d643911b-4727-4c6c-a291-3d94d9328803",
   "metadata": {},
   "outputs": [],
   "source": []
  }
 ],
 "metadata": {
  "kernelspec": {
   "display_name": "Python 3 (ipykernel)",
   "language": "python",
   "name": "python3"
  },
  "language_info": {
   "codemirror_mode": {
    "name": "ipython",
    "version": 3
   },
   "file_extension": ".py",
   "mimetype": "text/x-python",
   "name": "python",
   "nbconvert_exporter": "python",
   "pygments_lexer": "ipython3",
   "version": "3.12.7"
  }
 },
 "nbformat": 4,
 "nbformat_minor": 5
}
